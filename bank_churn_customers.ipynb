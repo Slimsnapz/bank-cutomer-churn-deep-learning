{
 "cells": [
  {
   "cell_type": "code",
   "execution_count": 52,
   "id": "1fea4720-a8c1-41df-9897-6d820743825e",
   "metadata": {},
   "outputs": [
    {
     "name": "stdout",
     "output_type": "stream",
     "text": [
      "Python 3.12.3\n"
     ]
    }
   ],
   "source": [
    "!python --version"
   ]
  },
  {
   "cell_type": "code",
   "execution_count": 53,
   "id": "035467ad-15e8-43a3-ba10-c357016c0fab",
   "metadata": {},
   "outputs": [],
   "source": [
    "import pandas as pd\n",
    "import numpy as np\n",
    "import tensorflow as tf\n",
    "import matplotlib.pyplot as plt\n",
    "import seaborn as sns\n",
    "import os\n",
    "\n",
    "\n",
    "%matplotlib inline"
   ]
  },
  {
   "cell_type": "code",
   "execution_count": 54,
   "id": "5f140e9d-0159-4f75-9085-e0aa1d5628f9",
   "metadata": {},
   "outputs": [
    {
     "data": {
      "text/plain": [
       "'C:\\\\Users\\\\001\\\\Documents\\\\workbench\\\\myenv'"
      ]
     },
     "execution_count": 54,
     "metadata": {},
     "output_type": "execute_result"
    }
   ],
   "source": [
    "os.getcwd()"
   ]
  },
  {
   "cell_type": "code",
   "execution_count": 55,
   "id": "0159ef52-f224-4df2-b2e5-6598e7887ad4",
   "metadata": {},
   "outputs": [],
   "source": [
    "os.chdir('C:\\\\Users\\\\001\\\\Downloads')"
   ]
  },
  {
   "cell_type": "code",
   "execution_count": 56,
   "id": "602990e7-4a53-4476-950b-753318d730fe",
   "metadata": {},
   "outputs": [
    {
     "data": {
      "text/plain": [
       "'C:\\\\Users\\\\001\\\\Downloads'"
      ]
     },
     "execution_count": 56,
     "metadata": {},
     "output_type": "execute_result"
    }
   ],
   "source": [
    "os.getcwd()"
   ]
  },
  {
   "cell_type": "code",
   "execution_count": 57,
   "id": "07072bd4-740d-495c-99a4-1f1448eee668",
   "metadata": {},
   "outputs": [],
   "source": [
    "file_name = 'churn_modelling_bank.csv'"
   ]
  },
  {
   "cell_type": "code",
   "execution_count": 58,
   "id": "78ad0809-0328-4d8a-bcba-7505c6dbd187",
   "metadata": {},
   "outputs": [
    {
     "data": {
      "text/html": [
       "<div>\n",
       "<style scoped>\n",
       "    .dataframe tbody tr th:only-of-type {\n",
       "        vertical-align: middle;\n",
       "    }\n",
       "\n",
       "    .dataframe tbody tr th {\n",
       "        vertical-align: top;\n",
       "    }\n",
       "\n",
       "    .dataframe thead th {\n",
       "        text-align: right;\n",
       "    }\n",
       "</style>\n",
       "<table border=\"1\" class=\"dataframe\">\n",
       "  <thead>\n",
       "    <tr style=\"text-align: right;\">\n",
       "      <th></th>\n",
       "      <th>RowNumber</th>\n",
       "      <th>CustomerId</th>\n",
       "      <th>Surname</th>\n",
       "      <th>CreditScore</th>\n",
       "      <th>Geography</th>\n",
       "      <th>Gender</th>\n",
       "      <th>Age</th>\n",
       "      <th>Tenure</th>\n",
       "      <th>Balance</th>\n",
       "      <th>NumOfProducts</th>\n",
       "      <th>HasCrCard</th>\n",
       "      <th>IsActiveMember</th>\n",
       "      <th>EstimatedSalary</th>\n",
       "      <th>Exited</th>\n",
       "    </tr>\n",
       "  </thead>\n",
       "  <tbody>\n",
       "    <tr>\n",
       "      <th>0</th>\n",
       "      <td>1</td>\n",
       "      <td>15634602</td>\n",
       "      <td>Hargrave</td>\n",
       "      <td>619</td>\n",
       "      <td>France</td>\n",
       "      <td>Female</td>\n",
       "      <td>42</td>\n",
       "      <td>2</td>\n",
       "      <td>0.00</td>\n",
       "      <td>1</td>\n",
       "      <td>1</td>\n",
       "      <td>1</td>\n",
       "      <td>101348.88</td>\n",
       "      <td>1</td>\n",
       "    </tr>\n",
       "    <tr>\n",
       "      <th>1</th>\n",
       "      <td>2</td>\n",
       "      <td>15647311</td>\n",
       "      <td>Hill</td>\n",
       "      <td>608</td>\n",
       "      <td>Spain</td>\n",
       "      <td>Female</td>\n",
       "      <td>41</td>\n",
       "      <td>1</td>\n",
       "      <td>83807.86</td>\n",
       "      <td>1</td>\n",
       "      <td>0</td>\n",
       "      <td>1</td>\n",
       "      <td>112542.58</td>\n",
       "      <td>0</td>\n",
       "    </tr>\n",
       "    <tr>\n",
       "      <th>2</th>\n",
       "      <td>3</td>\n",
       "      <td>15619304</td>\n",
       "      <td>Onio</td>\n",
       "      <td>502</td>\n",
       "      <td>France</td>\n",
       "      <td>Female</td>\n",
       "      <td>42</td>\n",
       "      <td>8</td>\n",
       "      <td>159660.80</td>\n",
       "      <td>3</td>\n",
       "      <td>1</td>\n",
       "      <td>0</td>\n",
       "      <td>113931.57</td>\n",
       "      <td>1</td>\n",
       "    </tr>\n",
       "    <tr>\n",
       "      <th>3</th>\n",
       "      <td>4</td>\n",
       "      <td>15701354</td>\n",
       "      <td>Boni</td>\n",
       "      <td>699</td>\n",
       "      <td>France</td>\n",
       "      <td>Female</td>\n",
       "      <td>39</td>\n",
       "      <td>1</td>\n",
       "      <td>0.00</td>\n",
       "      <td>2</td>\n",
       "      <td>0</td>\n",
       "      <td>0</td>\n",
       "      <td>93826.63</td>\n",
       "      <td>0</td>\n",
       "    </tr>\n",
       "    <tr>\n",
       "      <th>4</th>\n",
       "      <td>5</td>\n",
       "      <td>15737888</td>\n",
       "      <td>Mitchell</td>\n",
       "      <td>850</td>\n",
       "      <td>Spain</td>\n",
       "      <td>Female</td>\n",
       "      <td>43</td>\n",
       "      <td>2</td>\n",
       "      <td>125510.82</td>\n",
       "      <td>1</td>\n",
       "      <td>1</td>\n",
       "      <td>1</td>\n",
       "      <td>79084.10</td>\n",
       "      <td>0</td>\n",
       "    </tr>\n",
       "    <tr>\n",
       "      <th>...</th>\n",
       "      <td>...</td>\n",
       "      <td>...</td>\n",
       "      <td>...</td>\n",
       "      <td>...</td>\n",
       "      <td>...</td>\n",
       "      <td>...</td>\n",
       "      <td>...</td>\n",
       "      <td>...</td>\n",
       "      <td>...</td>\n",
       "      <td>...</td>\n",
       "      <td>...</td>\n",
       "      <td>...</td>\n",
       "      <td>...</td>\n",
       "      <td>...</td>\n",
       "    </tr>\n",
       "    <tr>\n",
       "      <th>9995</th>\n",
       "      <td>9996</td>\n",
       "      <td>15606229</td>\n",
       "      <td>Obijiaku</td>\n",
       "      <td>771</td>\n",
       "      <td>France</td>\n",
       "      <td>Male</td>\n",
       "      <td>39</td>\n",
       "      <td>5</td>\n",
       "      <td>0.00</td>\n",
       "      <td>2</td>\n",
       "      <td>1</td>\n",
       "      <td>0</td>\n",
       "      <td>96270.64</td>\n",
       "      <td>0</td>\n",
       "    </tr>\n",
       "    <tr>\n",
       "      <th>9996</th>\n",
       "      <td>9997</td>\n",
       "      <td>15569892</td>\n",
       "      <td>Johnstone</td>\n",
       "      <td>516</td>\n",
       "      <td>France</td>\n",
       "      <td>Male</td>\n",
       "      <td>35</td>\n",
       "      <td>10</td>\n",
       "      <td>57369.61</td>\n",
       "      <td>1</td>\n",
       "      <td>1</td>\n",
       "      <td>1</td>\n",
       "      <td>101699.77</td>\n",
       "      <td>0</td>\n",
       "    </tr>\n",
       "    <tr>\n",
       "      <th>9997</th>\n",
       "      <td>9998</td>\n",
       "      <td>15584532</td>\n",
       "      <td>Liu</td>\n",
       "      <td>709</td>\n",
       "      <td>France</td>\n",
       "      <td>Female</td>\n",
       "      <td>36</td>\n",
       "      <td>7</td>\n",
       "      <td>0.00</td>\n",
       "      <td>1</td>\n",
       "      <td>0</td>\n",
       "      <td>1</td>\n",
       "      <td>42085.58</td>\n",
       "      <td>1</td>\n",
       "    </tr>\n",
       "    <tr>\n",
       "      <th>9998</th>\n",
       "      <td>9999</td>\n",
       "      <td>15682355</td>\n",
       "      <td>Sabbatini</td>\n",
       "      <td>772</td>\n",
       "      <td>Germany</td>\n",
       "      <td>Male</td>\n",
       "      <td>42</td>\n",
       "      <td>3</td>\n",
       "      <td>75075.31</td>\n",
       "      <td>2</td>\n",
       "      <td>1</td>\n",
       "      <td>0</td>\n",
       "      <td>92888.52</td>\n",
       "      <td>1</td>\n",
       "    </tr>\n",
       "    <tr>\n",
       "      <th>9999</th>\n",
       "      <td>10000</td>\n",
       "      <td>15628319</td>\n",
       "      <td>Walker</td>\n",
       "      <td>792</td>\n",
       "      <td>France</td>\n",
       "      <td>Female</td>\n",
       "      <td>28</td>\n",
       "      <td>4</td>\n",
       "      <td>130142.79</td>\n",
       "      <td>1</td>\n",
       "      <td>1</td>\n",
       "      <td>0</td>\n",
       "      <td>38190.78</td>\n",
       "      <td>0</td>\n",
       "    </tr>\n",
       "  </tbody>\n",
       "</table>\n",
       "<p>10000 rows × 14 columns</p>\n",
       "</div>"
      ],
      "text/plain": [
       "      RowNumber  CustomerId    Surname  CreditScore Geography  Gender  Age  \\\n",
       "0             1    15634602   Hargrave          619    France  Female   42   \n",
       "1             2    15647311       Hill          608     Spain  Female   41   \n",
       "2             3    15619304       Onio          502    France  Female   42   \n",
       "3             4    15701354       Boni          699    France  Female   39   \n",
       "4             5    15737888   Mitchell          850     Spain  Female   43   \n",
       "...         ...         ...        ...          ...       ...     ...  ...   \n",
       "9995       9996    15606229   Obijiaku          771    France    Male   39   \n",
       "9996       9997    15569892  Johnstone          516    France    Male   35   \n",
       "9997       9998    15584532        Liu          709    France  Female   36   \n",
       "9998       9999    15682355  Sabbatini          772   Germany    Male   42   \n",
       "9999      10000    15628319     Walker          792    France  Female   28   \n",
       "\n",
       "      Tenure    Balance  NumOfProducts  HasCrCard  IsActiveMember  \\\n",
       "0          2       0.00              1          1               1   \n",
       "1          1   83807.86              1          0               1   \n",
       "2          8  159660.80              3          1               0   \n",
       "3          1       0.00              2          0               0   \n",
       "4          2  125510.82              1          1               1   \n",
       "...      ...        ...            ...        ...             ...   \n",
       "9995       5       0.00              2          1               0   \n",
       "9996      10   57369.61              1          1               1   \n",
       "9997       7       0.00              1          0               1   \n",
       "9998       3   75075.31              2          1               0   \n",
       "9999       4  130142.79              1          1               0   \n",
       "\n",
       "      EstimatedSalary  Exited  \n",
       "0           101348.88       1  \n",
       "1           112542.58       0  \n",
       "2           113931.57       1  \n",
       "3            93826.63       0  \n",
       "4            79084.10       0  \n",
       "...               ...     ...  \n",
       "9995         96270.64       0  \n",
       "9996        101699.77       0  \n",
       "9997         42085.58       1  \n",
       "9998         92888.52       1  \n",
       "9999         38190.78       0  \n",
       "\n",
       "[10000 rows x 14 columns]"
      ]
     },
     "execution_count": 58,
     "metadata": {},
     "output_type": "execute_result"
    }
   ],
   "source": [
    "raw_data = pd.read_csv(file_name)\n",
    "data = raw_data.copy()\n",
    "data"
   ]
  },
  {
   "cell_type": "code",
   "execution_count": 59,
   "id": "71f458db-7165-4577-ade2-f76336598ee1",
   "metadata": {},
   "outputs": [],
   "source": [
    "os.chdir('C:\\\\Users\\\\001\\\\Documents\\\\workbench\\\\myenv')"
   ]
  },
  {
   "cell_type": "markdown",
   "id": "3bd502c9-3083-4136-b7b1-b195ca289316",
   "metadata": {},
   "source": [
    "# EXPLORATORY DATA ANALYSIS"
   ]
  },
  {
   "cell_type": "code",
   "execution_count": 60,
   "id": "396bddb3-9a91-4f1c-8d13-41b7c44ccc24",
   "metadata": {},
   "outputs": [
    {
     "data": {
      "text/html": [
       "<div>\n",
       "<style scoped>\n",
       "    .dataframe tbody tr th:only-of-type {\n",
       "        vertical-align: middle;\n",
       "    }\n",
       "\n",
       "    .dataframe tbody tr th {\n",
       "        vertical-align: top;\n",
       "    }\n",
       "\n",
       "    .dataframe thead th {\n",
       "        text-align: right;\n",
       "    }\n",
       "</style>\n",
       "<table border=\"1\" class=\"dataframe\">\n",
       "  <thead>\n",
       "    <tr style=\"text-align: right;\">\n",
       "      <th></th>\n",
       "      <th>RowNumber</th>\n",
       "      <th>CustomerId</th>\n",
       "      <th>CreditScore</th>\n",
       "      <th>Age</th>\n",
       "      <th>Tenure</th>\n",
       "      <th>Balance</th>\n",
       "      <th>NumOfProducts</th>\n",
       "      <th>HasCrCard</th>\n",
       "      <th>IsActiveMember</th>\n",
       "      <th>EstimatedSalary</th>\n",
       "      <th>Exited</th>\n",
       "    </tr>\n",
       "  </thead>\n",
       "  <tbody>\n",
       "    <tr>\n",
       "      <th>count</th>\n",
       "      <td>10000.00000</td>\n",
       "      <td>1.000000e+04</td>\n",
       "      <td>10000.000000</td>\n",
       "      <td>10000.000000</td>\n",
       "      <td>10000.000000</td>\n",
       "      <td>10000.000000</td>\n",
       "      <td>10000.000000</td>\n",
       "      <td>10000.00000</td>\n",
       "      <td>10000.000000</td>\n",
       "      <td>10000.000000</td>\n",
       "      <td>10000.000000</td>\n",
       "    </tr>\n",
       "    <tr>\n",
       "      <th>mean</th>\n",
       "      <td>5000.50000</td>\n",
       "      <td>1.569094e+07</td>\n",
       "      <td>650.528800</td>\n",
       "      <td>38.921800</td>\n",
       "      <td>5.012800</td>\n",
       "      <td>76485.889288</td>\n",
       "      <td>1.530200</td>\n",
       "      <td>0.70550</td>\n",
       "      <td>0.515100</td>\n",
       "      <td>100090.239881</td>\n",
       "      <td>0.203700</td>\n",
       "    </tr>\n",
       "    <tr>\n",
       "      <th>std</th>\n",
       "      <td>2886.89568</td>\n",
       "      <td>7.193619e+04</td>\n",
       "      <td>96.653299</td>\n",
       "      <td>10.487806</td>\n",
       "      <td>2.892174</td>\n",
       "      <td>62397.405202</td>\n",
       "      <td>0.581654</td>\n",
       "      <td>0.45584</td>\n",
       "      <td>0.499797</td>\n",
       "      <td>57510.492818</td>\n",
       "      <td>0.402769</td>\n",
       "    </tr>\n",
       "    <tr>\n",
       "      <th>min</th>\n",
       "      <td>1.00000</td>\n",
       "      <td>1.556570e+07</td>\n",
       "      <td>350.000000</td>\n",
       "      <td>18.000000</td>\n",
       "      <td>0.000000</td>\n",
       "      <td>0.000000</td>\n",
       "      <td>1.000000</td>\n",
       "      <td>0.00000</td>\n",
       "      <td>0.000000</td>\n",
       "      <td>11.580000</td>\n",
       "      <td>0.000000</td>\n",
       "    </tr>\n",
       "    <tr>\n",
       "      <th>25%</th>\n",
       "      <td>2500.75000</td>\n",
       "      <td>1.562853e+07</td>\n",
       "      <td>584.000000</td>\n",
       "      <td>32.000000</td>\n",
       "      <td>3.000000</td>\n",
       "      <td>0.000000</td>\n",
       "      <td>1.000000</td>\n",
       "      <td>0.00000</td>\n",
       "      <td>0.000000</td>\n",
       "      <td>51002.110000</td>\n",
       "      <td>0.000000</td>\n",
       "    </tr>\n",
       "    <tr>\n",
       "      <th>50%</th>\n",
       "      <td>5000.50000</td>\n",
       "      <td>1.569074e+07</td>\n",
       "      <td>652.000000</td>\n",
       "      <td>37.000000</td>\n",
       "      <td>5.000000</td>\n",
       "      <td>97198.540000</td>\n",
       "      <td>1.000000</td>\n",
       "      <td>1.00000</td>\n",
       "      <td>1.000000</td>\n",
       "      <td>100193.915000</td>\n",
       "      <td>0.000000</td>\n",
       "    </tr>\n",
       "    <tr>\n",
       "      <th>75%</th>\n",
       "      <td>7500.25000</td>\n",
       "      <td>1.575323e+07</td>\n",
       "      <td>718.000000</td>\n",
       "      <td>44.000000</td>\n",
       "      <td>7.000000</td>\n",
       "      <td>127644.240000</td>\n",
       "      <td>2.000000</td>\n",
       "      <td>1.00000</td>\n",
       "      <td>1.000000</td>\n",
       "      <td>149388.247500</td>\n",
       "      <td>0.000000</td>\n",
       "    </tr>\n",
       "    <tr>\n",
       "      <th>max</th>\n",
       "      <td>10000.00000</td>\n",
       "      <td>1.581569e+07</td>\n",
       "      <td>850.000000</td>\n",
       "      <td>92.000000</td>\n",
       "      <td>10.000000</td>\n",
       "      <td>250898.090000</td>\n",
       "      <td>4.000000</td>\n",
       "      <td>1.00000</td>\n",
       "      <td>1.000000</td>\n",
       "      <td>199992.480000</td>\n",
       "      <td>1.000000</td>\n",
       "    </tr>\n",
       "  </tbody>\n",
       "</table>\n",
       "</div>"
      ],
      "text/plain": [
       "         RowNumber    CustomerId   CreditScore           Age        Tenure  \\\n",
       "count  10000.00000  1.000000e+04  10000.000000  10000.000000  10000.000000   \n",
       "mean    5000.50000  1.569094e+07    650.528800     38.921800      5.012800   \n",
       "std     2886.89568  7.193619e+04     96.653299     10.487806      2.892174   \n",
       "min        1.00000  1.556570e+07    350.000000     18.000000      0.000000   \n",
       "25%     2500.75000  1.562853e+07    584.000000     32.000000      3.000000   \n",
       "50%     5000.50000  1.569074e+07    652.000000     37.000000      5.000000   \n",
       "75%     7500.25000  1.575323e+07    718.000000     44.000000      7.000000   \n",
       "max    10000.00000  1.581569e+07    850.000000     92.000000     10.000000   \n",
       "\n",
       "             Balance  NumOfProducts    HasCrCard  IsActiveMember  \\\n",
       "count   10000.000000   10000.000000  10000.00000    10000.000000   \n",
       "mean    76485.889288       1.530200      0.70550        0.515100   \n",
       "std     62397.405202       0.581654      0.45584        0.499797   \n",
       "min         0.000000       1.000000      0.00000        0.000000   \n",
       "25%         0.000000       1.000000      0.00000        0.000000   \n",
       "50%     97198.540000       1.000000      1.00000        1.000000   \n",
       "75%    127644.240000       2.000000      1.00000        1.000000   \n",
       "max    250898.090000       4.000000      1.00000        1.000000   \n",
       "\n",
       "       EstimatedSalary        Exited  \n",
       "count     10000.000000  10000.000000  \n",
       "mean     100090.239881      0.203700  \n",
       "std       57510.492818      0.402769  \n",
       "min          11.580000      0.000000  \n",
       "25%       51002.110000      0.000000  \n",
       "50%      100193.915000      0.000000  \n",
       "75%      149388.247500      0.000000  \n",
       "max      199992.480000      1.000000  "
      ]
     },
     "execution_count": 60,
     "metadata": {},
     "output_type": "execute_result"
    }
   ],
   "source": [
    "data.describe()"
   ]
  },
  {
   "cell_type": "code",
   "execution_count": 61,
   "id": "cfbad952-f6e1-4522-b995-231421813a40",
   "metadata": {},
   "outputs": [
    {
     "name": "stdout",
     "output_type": "stream",
     "text": [
      "<class 'pandas.core.frame.DataFrame'>\n",
      "RangeIndex: 10000 entries, 0 to 9999\n",
      "Data columns (total 14 columns):\n",
      " #   Column           Non-Null Count  Dtype  \n",
      "---  ------           --------------  -----  \n",
      " 0   RowNumber        10000 non-null  int64  \n",
      " 1   CustomerId       10000 non-null  int64  \n",
      " 2   Surname          10000 non-null  object \n",
      " 3   CreditScore      10000 non-null  int64  \n",
      " 4   Geography        10000 non-null  object \n",
      " 5   Gender           10000 non-null  object \n",
      " 6   Age              10000 non-null  int64  \n",
      " 7   Tenure           10000 non-null  int64  \n",
      " 8   Balance          10000 non-null  float64\n",
      " 9   NumOfProducts    10000 non-null  int64  \n",
      " 10  HasCrCard        10000 non-null  int64  \n",
      " 11  IsActiveMember   10000 non-null  int64  \n",
      " 12  EstimatedSalary  10000 non-null  float64\n",
      " 13  Exited           10000 non-null  int64  \n",
      "dtypes: float64(2), int64(9), object(3)\n",
      "memory usage: 1.1+ MB\n"
     ]
    }
   ],
   "source": [
    "data.info()"
   ]
  },
  {
   "cell_type": "code",
   "execution_count": 62,
   "id": "c0065adf-b6ed-4fd7-8823-e57ef5f26b15",
   "metadata": {},
   "outputs": [
    {
     "data": {
      "text/plain": [
       "RowNumber          0\n",
       "CustomerId         0\n",
       "Surname            0\n",
       "CreditScore        0\n",
       "Geography          0\n",
       "Gender             0\n",
       "Age                0\n",
       "Tenure             0\n",
       "Balance            0\n",
       "NumOfProducts      0\n",
       "HasCrCard          0\n",
       "IsActiveMember     0\n",
       "EstimatedSalary    0\n",
       "Exited             0\n",
       "dtype: int64"
      ]
     },
     "execution_count": 62,
     "metadata": {},
     "output_type": "execute_result"
    }
   ],
   "source": [
    "data.isnull().sum()"
   ]
  },
  {
   "cell_type": "code",
   "execution_count": 63,
   "id": "c9e043ff-ee69-4cf8-9054-f77f3a56aebd",
   "metadata": {},
   "outputs": [],
   "source": [
    "# dropping CustomerId, RowNumber, Surname from dataset as it has no statistical value in this analysis\n",
    "data.drop(['CustomerId', 'RowNumber', 'Surname'], axis=1, inplace=True)"
   ]
  },
  {
   "cell_type": "markdown",
   "id": "c9429d7d-9383-444f-8877-104f8d974007",
   "metadata": {},
   "source": [
    "### Data deduction <br>\n",
    "* The data is a mix of categorical and numerical data <br>\n",
    "* The data contains 14 featurs and 10,000 rows <br>\n",
    "* The data is complete and has no missing"
   ]
  },
  {
   "cell_type": "code",
   "execution_count": 64,
   "id": "51857a6a-a4ad-4b34-bcf8-ddd15e0bdb79",
   "metadata": {},
   "outputs": [
    {
     "data": {
      "text/plain": [
       "0"
      ]
     },
     "execution_count": 64,
     "metadata": {},
     "output_type": "execute_result"
    }
   ],
   "source": [
    "# checking if there are any duplicated intances in the data\n",
    "data.duplicated().sum()"
   ]
  },
  {
   "cell_type": "markdown",
   "id": "8d09c7fc-d00f-46cc-b3e7-35ba22aee1cf",
   "metadata": {},
   "source": [
    "### Creating python function that splits data into numerical and categorical data"
   ]
  },
  {
   "cell_type": "code",
   "execution_count": 65,
   "id": "bb274089-1f38-4b20-a522-a2c33a8f4c84",
   "metadata": {},
   "outputs": [],
   "source": [
    "#input dataframe\n",
    "# This funtion does the following:\n",
    "# 1. splits data into categorical and numerical subdata\n",
    "# 2. checks for skewnes in the numerical data\n",
    "# 3. checks for outliers in the numerical data \n",
    "\n",
    "# Returns catergorical and numerical dataframe\n",
    "\n",
    "\n",
    "def cat_num_splitter(data):\n",
    "    cols = list(data.columns)\n",
    "    cat_cols = []\n",
    "    num_cols = []\n",
    "    for col in cols:\n",
    "        if data[col].dtype == 'int64' or data[col].dtype == 'int32' or data[col].dtype == 'float64':\n",
    "            num_cols.append(col)\n",
    "        else:\n",
    "            cat_cols.append(col)\n",
    "\n",
    "    cat_df = data[cat_cols]\n",
    "    num_df = data[num_cols]\n",
    "\n",
    "    return cat_df, num_df"
   ]
  },
  {
   "cell_type": "code",
   "execution_count": 66,
   "id": "c7af3176-22b5-4dea-933c-1c6d13a6c324",
   "metadata": {},
   "outputs": [],
   "source": [
    "cat_df, num_df = cat_num_splitter(data)"
   ]
  },
  {
   "cell_type": "code",
   "execution_count": 67,
   "id": "4e2f05e5-5bc2-4173-bd67-bdcf77e17808",
   "metadata": {},
   "outputs": [
    {
     "data": {
      "text/plain": [
       "(     Geography  Gender\n",
       " 0       France  Female\n",
       " 1        Spain  Female\n",
       " 2       France  Female\n",
       " 3       France  Female\n",
       " 4        Spain  Female\n",
       " ...        ...     ...\n",
       " 9995    France    Male\n",
       " 9996    France    Male\n",
       " 9997    France  Female\n",
       " 9998   Germany    Male\n",
       " 9999    France  Female\n",
       " \n",
       " [10000 rows x 2 columns],\n",
       "       CreditScore  Age  Tenure    Balance  NumOfProducts  HasCrCard  \\\n",
       " 0             619   42       2       0.00              1          1   \n",
       " 1             608   41       1   83807.86              1          0   \n",
       " 2             502   42       8  159660.80              3          1   \n",
       " 3             699   39       1       0.00              2          0   \n",
       " 4             850   43       2  125510.82              1          1   \n",
       " ...           ...  ...     ...        ...            ...        ...   \n",
       " 9995          771   39       5       0.00              2          1   \n",
       " 9996          516   35      10   57369.61              1          1   \n",
       " 9997          709   36       7       0.00              1          0   \n",
       " 9998          772   42       3   75075.31              2          1   \n",
       " 9999          792   28       4  130142.79              1          1   \n",
       " \n",
       "       IsActiveMember  EstimatedSalary  Exited  \n",
       " 0                  1        101348.88       1  \n",
       " 1                  1        112542.58       0  \n",
       " 2                  0        113931.57       1  \n",
       " 3                  0         93826.63       0  \n",
       " 4                  1         79084.10       0  \n",
       " ...              ...              ...     ...  \n",
       " 9995               0         96270.64       0  \n",
       " 9996               1        101699.77       0  \n",
       " 9997               1         42085.58       1  \n",
       " 9998               0         92888.52       1  \n",
       " 9999               0         38190.78       0  \n",
       " \n",
       " [10000 rows x 9 columns])"
      ]
     },
     "execution_count": 67,
     "metadata": {},
     "output_type": "execute_result"
    }
   ],
   "source": [
    "cat_df, num_df"
   ]
  },
  {
   "cell_type": "markdown",
   "id": "afc6f0a7-c741-4679-aba6-2a60c7f7c128",
   "metadata": {},
   "source": [
    "### inspecting the categorical features in data for any labeling errors"
   ]
  },
  {
   "cell_type": "code",
   "execution_count": 68,
   "id": "2b40009f-55bc-4be3-9d47-7566a45cde72",
   "metadata": {},
   "outputs": [],
   "source": [
    "def feature_inspec(data):\n",
    "\n",
    "    '''\n",
    "    this function inspects data columns to get the data type\n",
    "    input: input the data you want to inspect\n",
    "    output: returns the analysis and data type of each columm in the data\n",
    "    '''   \n",
    "    \n",
    "    for col in data.columns:\n",
    "        type = data[col].dtype\n",
    "        content = list(data[col])\n",
    "        print(f'{col} contains {content[0:4]} and is currently of the {type} datatype')\n",
    "        print('**********************************************')\n"
   ]
  },
  {
   "cell_type": "code",
   "execution_count": 69,
   "id": "c7560ecc-896b-49ad-aadd-edbc8c98f5ea",
   "metadata": {},
   "outputs": [
    {
     "name": "stdout",
     "output_type": "stream",
     "text": [
      "Geography contains ['France', 'Spain', 'France', 'France'] and is currently of the object datatype\n",
      "**********************************************\n",
      "Gender contains ['Female', 'Female', 'Female', 'Female'] and is currently of the object datatype\n",
      "**********************************************\n"
     ]
    }
   ],
   "source": [
    "feature_inspec(cat_df)"
   ]
  },
  {
   "cell_type": "markdown",
   "id": "25883aaf-a4cb-47b6-abb4-a0841fbf8b7d",
   "metadata": {},
   "source": [
    "As seen above there are no repeated instances of values in the feature labels therefore the data is good"
   ]
  },
  {
   "cell_type": "code",
   "execution_count": 70,
   "id": "07d58be2-8cf7-48d5-bde6-46d12c4f118c",
   "metadata": {},
   "outputs": [],
   "source": [
    "# concatination the numerical and categorical data\n",
    "df = pd.concat([cat_df, num_df], axis = 1)"
   ]
  },
  {
   "cell_type": "markdown",
   "id": "bd02d77f-07fa-4c71-9f17-bf6453f6e521",
   "metadata": {},
   "source": [
    "### Visualizing the Data"
   ]
  },
  {
   "cell_type": "code",
   "execution_count": 71,
   "id": "3368c24a-2674-40ca-9111-cab637d26d1e",
   "metadata": {},
   "outputs": [
    {
     "data": {
      "image/png": "[encoded data removed]",
      "text/plain": [
       "<Figure size 600x500 with 1 Axes>"
      ]
     },
     "metadata": {},
     "output_type": "display_data"
    }
   ],
   "source": [
    "# showing graphical representation of churn customers against customers that stayed\n",
    "\n",
    "values = df.Exited.value_counts()\n",
    "labels = ['Not Exited', 'Exited']\n",
    "\n",
    "fig, ax = plt.subplots(figsize = (6, 5), dpi = 100)\n",
    "explode = (0, 0.09)\n",
    "\n",
    "patches, texts, autotexts = ax.pie(values, labels = labels, autopct = '%1.2f%%', shadow = True,\n",
    "                                   startangle = 90, explode = explode)\n",
    "\n",
    "plt.setp(texts, color = 'black')\n",
    "plt.setp(autotexts, size = 8, color = 'white')\n",
    "autotexts[1].set_color('black')\n",
    "plt.show()"
   ]
  },
  {
   "cell_type": "code",
   "execution_count": 72,
   "id": "b556f565-10ed-4187-8e82-6fda3ae76d5a",
   "metadata": {},
   "outputs": [
    {
     "data": {
      "image/png": "[encoded data removed]",
      "text/plain": [
       "<Figure size 1800x1500 with 6 Axes>"
      ]
     },
     "metadata": {},
     "output_type": "display_data"
    }
   ],
   "source": [
    "# Visualizing categorical features\n",
    "\n",
    "fig, ax = plt.subplots(3, 2, figsize=(18, 15))\n",
    "\n",
    "sns.countplot(x='Geography', hue='Exited', data=df, ax=ax[0][0])\n",
    "sns.countplot(x='Gender', hue='Exited', data=df, ax=ax[0][1])\n",
    "sns.countplot(x='Tenure', hue='Exited', data=df, ax=ax[1][0])\n",
    "sns.countplot(x='NumOfProducts', hue='Exited', data=df, ax=ax[1][1])\n",
    "sns.countplot(x='HasCrCard', hue='Exited', data=df, ax=ax[2][0])\n",
    "sns.countplot(x='IsActiveMember', hue='Exited', data=df, ax=ax[2][1])\n",
    "\n",
    "plt.tight_layout()\n",
    "plt.show()"
   ]
  },
  {
   "cell_type": "markdown",
   "id": "e7824463-b3bd-42de-9def-3df1bb6fc4ea",
   "metadata": {},
   "source": [
    "**From the plot above we can deduce that:**<br>\n",
    "* From the data majority of customers are from France, but most of the customers who switched are from Germany, perhaps due to a lack of resources due to the small number of customers.<br>\n",
    "* from the data we can also deduce that the number of female customers who exited is greater than the male customers<br>\n",
    "* Majority of customers have terms between 1 and 9 years and the churning rate is also high for these terms.<br>\n",
    "* Most customers have 1 or 2 products, most customers who switch have 1 product, maybe they are not satisfied so they switch.<br>\n",
    "* the majority of customers who churn are customers who have credit cards, but this could be a coincidence because the majority of customers have credit cards."
   ]
  },
  {
   "cell_type": "markdown",
   "id": "f6c00e09-d53f-41f9-b572-6f51b80ad178",
   "metadata": {},
   "source": [
    "## Data Preprocessing <br>\n",
    "\n",
    "processing the data to carry out further analysis"
   ]
  },
  {
   "cell_type": "markdown",
   "id": "0b8ca2fc-3a7f-4890-96d6-402912d36ded",
   "metadata": {},
   "source": [
    "### inspecting the numerical data for outliers"
   ]
  },
  {
   "cell_type": "code",
   "execution_count": 73,
   "id": "579ea292-c749-461d-b6ef-718ee37bbffc",
   "metadata": {},
   "outputs": [],
   "source": [
    "# creating list of features to inspect\n",
    "fea_to_inspec = ['CreditScore', 'Age', 'Tenure', 'Balance', 'NumOfProducts', 'EstimatedSalary']"
   ]
  },
  {
   "cell_type": "markdown",
   "id": "20cd18ca-b80f-4d93-8c6e-a6314862e620",
   "metadata": {},
   "source": [
    "### Boxplot<br>"
   ]
  },
  {
   "cell_type": "code",
   "execution_count": 74,
   "id": "5275c1c8-b88a-486b-855c-6941fd1285ab",
   "metadata": {},
   "outputs": [
    {
     "data": {
      "image/png": "[encoded data removed]",
      "text/plain": [
       "<Figure size 2000x1200 with 6 Axes>"
      ]
     },
     "metadata": {},
     "output_type": "display_data"
    }
   ],
   "source": [
    "i = 1\n",
    "plt.figure(figsize=(20,12))\n",
    "for col in fea_to_inspec:\n",
    "    plt.subplot(3,2,i)\n",
    "    sns.boxplot(y=col, x='Exited',hue='Exited', data=df)\n",
    "    plt.xlabel(col)\n",
    "    i += 1"
   ]
  },
  {
   "cell_type": "markdown",
   "id": "8f312554-f498-4cd1-9f2a-d9a33172002a",
   "metadata": {},
   "source": [
    "\n",
    "\n",
    "the boxplot above visualizes the relationship between the continues data features to the Exited persons. Each boxplot provides insights into the distribution, central tendency, and variability of the data for churned and retained customers."
   ]
  },
  {
   "cell_type": "code",
   "execution_count": 75,
   "id": "c56e7f7a-8171-433d-8ac2-28a9d096960c",
   "metadata": {},
   "outputs": [
    {
     "data": {
      "text/plain": [
       "<matplotlib.legend.Legend at 0x1afc511d550>"
      ]
     },
     "execution_count": 75,
     "metadata": {},
     "output_type": "execute_result"
    },
    {
     "data": {
      "image/png": "[encoded data removed]",
      "text/plain": [
       "<Figure size 640x480 with 1 Axes>"
      ]
     },
     "metadata": {},
     "output_type": "display_data"
    }
   ],
   "source": [
    "# Extract the 'Tenure' values for churned and cutomers who stayed\n",
    "tenure_churn_no = df[df.Exited==0].Tenure\n",
    "tenure_churn_yes = df[df.Exited==1].Tenure\n",
    "\n",
    "# Setting the labels for the x-axis, y-axis, and the title of the plot\n",
    "plt.xlabel(\"Tenure\")\n",
    "plt.ylabel(\"Number of Customers\")\n",
    "plt.title(\"Customer Churn Prediction Visualization\")\n",
    "\n",
    "# Plotling the histogram with two datasets: tenure_churn_yes and tenure_churn_no\n",
    "plt.hist([tenure_churn_yes, tenure_churn_no], rwidth=0.95, color=['black', 'royalblue'], label=['Churn=Yes', 'Churn=No'])\n",
    "\n",
    "# Display the legend for differentiating churned and retained customers\n",
    "plt.legend()"
   ]
  },
  {
   "cell_type": "markdown",
   "id": "684bf70f-7533-4576-9327-3a81281848ac",
   "metadata": {},
   "source": [
    "### Feature Engineering"
   ]
  },
  {
   "cell_type": "markdown",
   "id": "840dacc0-d487-4035-a783-9c0edc9402f3",
   "metadata": {},
   "source": [
    "The code below generates two boxplots to visualize the relationships between the derived ratios ('BalanceSalaryRatio' and 'TenureByAge') and the churn status. The boxplots provide insights into the distribution, central tendency, and variability of these ratios for churned and cutomers who stayed."
   ]
  },
  {
   "cell_type": "code",
   "execution_count": 76,
   "id": "08b81398-5cc8-4d66-a16c-2ef10c403e64",
   "metadata": {},
   "outputs": [
    {
     "data": {
      "image/png": "[encoded data removed]",
      "text/plain": [
       "<Figure size 640x480 with 1 Axes>"
      ]
     },
     "metadata": {},
     "output_type": "display_data"
    }
   ],
   "source": [
    "# Calculating the balance to salary ratio and adding it as a new column to the dataset\n",
    "df['BalanceSalaryRatio'] = df.Balance / df.EstimatedSalary\n",
    "\n",
    "# Creating a boxplot to visualize the relationship between the balance to salary ratio and churn status\n",
    "sns.boxplot(y='BalanceSalaryRatio', x='Exited', hue='Exited', data=df)\n",
    "plt.ylim(-1, 5)  # Set the y-axis limits for better visualization\n",
    "\n",
    "# Display the boxplot\n",
    "plt.show()"
   ]
  },
  {
   "cell_type": "code",
   "execution_count": 77,
   "id": "f1341f40-6c1d-4648-96f6-cea9bab5cf37",
   "metadata": {},
   "outputs": [
    {
     "data": {
      "image/png": "[encoded data removed]",
      "text/plain": [
       "<Figure size 640x480 with 1 Axes>"
      ]
     },
     "metadata": {},
     "output_type": "display_data"
    }
   ],
   "source": [
    "# Calculating the tenure by age ratio and adding it as a new column to the dataset\n",
    "df['TenureByAge'] = df.Tenure / df.Age\n",
    "\n",
    "# Creating a boxplot to visualize the relationship between the tenure by age ratio and churn status\n",
    "sns.boxplot(y='TenureByAge', x='Exited', hue='Exited', data=df)\n",
    "plt.ylim(-1, 1)  # Set the y-axis limits for better visualization\n",
    "\n",
    "# Display the boxplot\n",
    "plt.show()"
   ]
  },
  {
   "cell_type": "markdown",
   "id": "8659e661-e3f5-4ce1-87fc-9337e8c4b802",
   "metadata": {},
   "source": [
    "### inspecting the categorical features"
   ]
  },
  {
   "cell_type": "markdown",
   "id": "65dd88ce-bddb-41dc-8bfa-aba6fb070fc8",
   "metadata": {},
   "source": [
    "the function below will print the categorocal feature and its unique values"
   ]
  },
  {
   "cell_type": "code",
   "execution_count": 78,
   "id": "1131b38f-caab-4bf7-9642-093a4030d630",
   "metadata": {},
   "outputs": [
    {
     "name": "stdout",
     "output_type": "stream",
     "text": [
      "Geography: ['France' 'Spain' 'Germany']\n",
      "Gender: ['Female' 'Male']\n"
     ]
    }
   ],
   "source": [
    "def unq_col_val(data):\n",
    "    # Iterate over each column in the DataFrame\n",
    "    for col in data:\n",
    "        # Printing the column name and its unique values\n",
    "        print(f'{col}: {data[col].unique()}')\n",
    "            \n",
    "\n",
    "\n",
    "unq_col_val(cat_df)"
   ]
  },
  {
   "cell_type": "markdown",
   "id": "b64d9b65-59ef-4541-b7f9-4fc7b438dca7",
   "metadata": {},
   "source": [
    "### Label encoding<br>\n",
    "\n",
    "The code below transforms the categorical variables ('Geography' and 'Gender') into numeric representations or one-hot encoded dummy variables. These transformations is performed as part of the feature enginnering to prepare the data for further analysis, modeling, and machine learning."
   ]
  },
  {
   "cell_type": "code",
   "execution_count": 79,
   "id": "5e6416ec-4dbc-42d0-8dba-a6358bdbf873",
   "metadata": {},
   "outputs": [],
   "source": [
    "# Import label encoder \n",
    "from sklearn import preprocessing \n",
    "\n",
    "# label_encoder object knows \n",
    "# how to understand word labels. \n",
    "label_encoder = preprocessing.LabelEncoder() \n",
    "\n",
    "# Encode labels in column 'Gender'. \n",
    "df['Gender'] = label_encoder.fit_transform(df['Gender'])\n",
    "\n",
    "# Creating dummy variables for the 'Geography' column and store the modified DataFrame in 'df'\n",
    "df = pd.get_dummies(data=df, columns=['Geography']).astype(int)\n"
   ]
  },
  {
   "cell_type": "markdown",
   "id": "76d8ceb0-3663-4184-865d-c7ee88846f8b",
   "metadata": {},
   "source": [
    "### dividing the data into inputs and targets"
   ]
  },
  {
   "cell_type": "code",
   "execution_count": 80,
   "id": "2872c0c5-a3f2-418b-840d-b8c01ae644b0",
   "metadata": {},
   "outputs": [
    {
     "data": {
      "text/plain": [
       "Index(['Gender', 'CreditScore', 'Age', 'Tenure', 'Balance', 'NumOfProducts',\n",
       "       'HasCrCard', 'IsActiveMember', 'EstimatedSalary', 'Exited',\n",
       "       'BalanceSalaryRatio', 'TenureByAge', 'Geography_France',\n",
       "       'Geography_Germany', 'Geography_Spain'],\n",
       "      dtype='object')"
      ]
     },
     "execution_count": 80,
     "metadata": {},
     "output_type": "execute_result"
    }
   ],
   "source": [
    "df.columns"
   ]
  },
  {
   "cell_type": "code",
   "execution_count": 81,
   "id": "a0910a09-9ff2-40ac-b752-42b0b2ac5442",
   "metadata": {},
   "outputs": [],
   "source": [
    "features_rearranged = ['Gender', 'CreditScore', 'Age', 'Tenure', 'Balance', 'NumOfProducts',\n",
    "       'HasCrCard', 'IsActiveMember', 'EstimatedSalary',\n",
    "       'BalanceSalaryRatio', 'TenureByAge', 'Geography_France',\n",
    "       'Geography_Germany', 'Geography_Spain', 'Exited']"
   ]
  },
  {
   "cell_type": "code",
   "execution_count": 82,
   "id": "181909ed-1f30-43d7-bbac-ee8282df332b",
   "metadata": {},
   "outputs": [
    {
     "data": {
      "text/html": [
       "<div>\n",
       "<style scoped>\n",
       "    .dataframe tbody tr th:only-of-type {\n",
       "        vertical-align: middle;\n",
       "    }\n",
       "\n",
       "    .dataframe tbody tr th {\n",
       "        vertical-align: top;\n",
       "    }\n",
       "\n",
       "    .dataframe thead th {\n",
       "        text-align: right;\n",
       "    }\n",
       "</style>\n",
       "<table border=\"1\" class=\"dataframe\">\n",
       "  <thead>\n",
       "    <tr style=\"text-align: right;\">\n",
       "      <th></th>\n",
       "      <th>Gender</th>\n",
       "      <th>CreditScore</th>\n",
       "      <th>Age</th>\n",
       "      <th>Tenure</th>\n",
       "      <th>Balance</th>\n",
       "      <th>NumOfProducts</th>\n",
       "      <th>HasCrCard</th>\n",
       "      <th>IsActiveMember</th>\n",
       "      <th>EstimatedSalary</th>\n",
       "      <th>BalanceSalaryRatio</th>\n",
       "      <th>TenureByAge</th>\n",
       "      <th>Geography_France</th>\n",
       "      <th>Geography_Germany</th>\n",
       "      <th>Geography_Spain</th>\n",
       "      <th>Exited</th>\n",
       "    </tr>\n",
       "  </thead>\n",
       "  <tbody>\n",
       "    <tr>\n",
       "      <th>0</th>\n",
       "      <td>0</td>\n",
       "      <td>619</td>\n",
       "      <td>42</td>\n",
       "      <td>2</td>\n",
       "      <td>0</td>\n",
       "      <td>1</td>\n",
       "      <td>1</td>\n",
       "      <td>1</td>\n",
       "      <td>101348</td>\n",
       "      <td>0</td>\n",
       "      <td>0</td>\n",
       "      <td>1</td>\n",
       "      <td>0</td>\n",
       "      <td>0</td>\n",
       "      <td>1</td>\n",
       "    </tr>\n",
       "    <tr>\n",
       "      <th>1</th>\n",
       "      <td>0</td>\n",
       "      <td>608</td>\n",
       "      <td>41</td>\n",
       "      <td>1</td>\n",
       "      <td>83807</td>\n",
       "      <td>1</td>\n",
       "      <td>0</td>\n",
       "      <td>1</td>\n",
       "      <td>112542</td>\n",
       "      <td>0</td>\n",
       "      <td>0</td>\n",
       "      <td>0</td>\n",
       "      <td>0</td>\n",
       "      <td>1</td>\n",
       "      <td>0</td>\n",
       "    </tr>\n",
       "    <tr>\n",
       "      <th>2</th>\n",
       "      <td>0</td>\n",
       "      <td>502</td>\n",
       "      <td>42</td>\n",
       "      <td>8</td>\n",
       "      <td>159660</td>\n",
       "      <td>3</td>\n",
       "      <td>1</td>\n",
       "      <td>0</td>\n",
       "      <td>113931</td>\n",
       "      <td>1</td>\n",
       "      <td>0</td>\n",
       "      <td>1</td>\n",
       "      <td>0</td>\n",
       "      <td>0</td>\n",
       "      <td>1</td>\n",
       "    </tr>\n",
       "    <tr>\n",
       "      <th>3</th>\n",
       "      <td>0</td>\n",
       "      <td>699</td>\n",
       "      <td>39</td>\n",
       "      <td>1</td>\n",
       "      <td>0</td>\n",
       "      <td>2</td>\n",
       "      <td>0</td>\n",
       "      <td>0</td>\n",
       "      <td>93826</td>\n",
       "      <td>0</td>\n",
       "      <td>0</td>\n",
       "      <td>1</td>\n",
       "      <td>0</td>\n",
       "      <td>0</td>\n",
       "      <td>0</td>\n",
       "    </tr>\n",
       "    <tr>\n",
       "      <th>4</th>\n",
       "      <td>0</td>\n",
       "      <td>850</td>\n",
       "      <td>43</td>\n",
       "      <td>2</td>\n",
       "      <td>125510</td>\n",
       "      <td>1</td>\n",
       "      <td>1</td>\n",
       "      <td>1</td>\n",
       "      <td>79084</td>\n",
       "      <td>1</td>\n",
       "      <td>0</td>\n",
       "      <td>0</td>\n",
       "      <td>0</td>\n",
       "      <td>1</td>\n",
       "      <td>0</td>\n",
       "    </tr>\n",
       "    <tr>\n",
       "      <th>...</th>\n",
       "      <td>...</td>\n",
       "      <td>...</td>\n",
       "      <td>...</td>\n",
       "      <td>...</td>\n",
       "      <td>...</td>\n",
       "      <td>...</td>\n",
       "      <td>...</td>\n",
       "      <td>...</td>\n",
       "      <td>...</td>\n",
       "      <td>...</td>\n",
       "      <td>...</td>\n",
       "      <td>...</td>\n",
       "      <td>...</td>\n",
       "      <td>...</td>\n",
       "      <td>...</td>\n",
       "    </tr>\n",
       "    <tr>\n",
       "      <th>9995</th>\n",
       "      <td>1</td>\n",
       "      <td>771</td>\n",
       "      <td>39</td>\n",
       "      <td>5</td>\n",
       "      <td>0</td>\n",
       "      <td>2</td>\n",
       "      <td>1</td>\n",
       "      <td>0</td>\n",
       "      <td>96270</td>\n",
       "      <td>0</td>\n",
       "      <td>0</td>\n",
       "      <td>1</td>\n",
       "      <td>0</td>\n",
       "      <td>0</td>\n",
       "      <td>0</td>\n",
       "    </tr>\n",
       "    <tr>\n",
       "      <th>9996</th>\n",
       "      <td>1</td>\n",
       "      <td>516</td>\n",
       "      <td>35</td>\n",
       "      <td>10</td>\n",
       "      <td>57369</td>\n",
       "      <td>1</td>\n",
       "      <td>1</td>\n",
       "      <td>1</td>\n",
       "      <td>101699</td>\n",
       "      <td>0</td>\n",
       "      <td>0</td>\n",
       "      <td>1</td>\n",
       "      <td>0</td>\n",
       "      <td>0</td>\n",
       "      <td>0</td>\n",
       "    </tr>\n",
       "    <tr>\n",
       "      <th>9997</th>\n",
       "      <td>0</td>\n",
       "      <td>709</td>\n",
       "      <td>36</td>\n",
       "      <td>7</td>\n",
       "      <td>0</td>\n",
       "      <td>1</td>\n",
       "      <td>0</td>\n",
       "      <td>1</td>\n",
       "      <td>42085</td>\n",
       "      <td>0</td>\n",
       "      <td>0</td>\n",
       "      <td>1</td>\n",
       "      <td>0</td>\n",
       "      <td>0</td>\n",
       "      <td>1</td>\n",
       "    </tr>\n",
       "    <tr>\n",
       "      <th>9998</th>\n",
       "      <td>1</td>\n",
       "      <td>772</td>\n",
       "      <td>42</td>\n",
       "      <td>3</td>\n",
       "      <td>75075</td>\n",
       "      <td>2</td>\n",
       "      <td>1</td>\n",
       "      <td>0</td>\n",
       "      <td>92888</td>\n",
       "      <td>0</td>\n",
       "      <td>0</td>\n",
       "      <td>0</td>\n",
       "      <td>1</td>\n",
       "      <td>0</td>\n",
       "      <td>1</td>\n",
       "    </tr>\n",
       "    <tr>\n",
       "      <th>9999</th>\n",
       "      <td>0</td>\n",
       "      <td>792</td>\n",
       "      <td>28</td>\n",
       "      <td>4</td>\n",
       "      <td>130142</td>\n",
       "      <td>1</td>\n",
       "      <td>1</td>\n",
       "      <td>0</td>\n",
       "      <td>38190</td>\n",
       "      <td>3</td>\n",
       "      <td>0</td>\n",
       "      <td>1</td>\n",
       "      <td>0</td>\n",
       "      <td>0</td>\n",
       "      <td>0</td>\n",
       "    </tr>\n",
       "  </tbody>\n",
       "</table>\n",
       "<p>10000 rows × 15 columns</p>\n",
       "</div>"
      ],
      "text/plain": [
       "      Gender  CreditScore  Age  Tenure  Balance  NumOfProducts  HasCrCard  \\\n",
       "0          0          619   42       2        0              1          1   \n",
       "1          0          608   41       1    83807              1          0   \n",
       "2          0          502   42       8   159660              3          1   \n",
       "3          0          699   39       1        0              2          0   \n",
       "4          0          850   43       2   125510              1          1   \n",
       "...      ...          ...  ...     ...      ...            ...        ...   \n",
       "9995       1          771   39       5        0              2          1   \n",
       "9996       1          516   35      10    57369              1          1   \n",
       "9997       0          709   36       7        0              1          0   \n",
       "9998       1          772   42       3    75075              2          1   \n",
       "9999       0          792   28       4   130142              1          1   \n",
       "\n",
       "      IsActiveMember  EstimatedSalary  BalanceSalaryRatio  TenureByAge  \\\n",
       "0                  1           101348                   0            0   \n",
       "1                  1           112542                   0            0   \n",
       "2                  0           113931                   1            0   \n",
       "3                  0            93826                   0            0   \n",
       "4                  1            79084                   1            0   \n",
       "...              ...              ...                 ...          ...   \n",
       "9995               0            96270                   0            0   \n",
       "9996               1           101699                   0            0   \n",
       "9997               1            42085                   0            0   \n",
       "9998               0            92888                   0            0   \n",
       "9999               0            38190                   3            0   \n",
       "\n",
       "      Geography_France  Geography_Germany  Geography_Spain  Exited  \n",
       "0                    1                  0                0       1  \n",
       "1                    0                  0                1       0  \n",
       "2                    1                  0                0       1  \n",
       "3                    1                  0                0       0  \n",
       "4                    0                  0                1       0  \n",
       "...                ...                ...              ...     ...  \n",
       "9995                 1                  0                0       0  \n",
       "9996                 1                  0                0       0  \n",
       "9997                 1                  0                0       1  \n",
       "9998                 0                  1                0       1  \n",
       "9999                 1                  0                0       0  \n",
       "\n",
       "[10000 rows x 15 columns]"
      ]
     },
     "execution_count": 82,
     "metadata": {},
     "output_type": "execute_result"
    }
   ],
   "source": [
    "# rearranging the features of the dataset\n",
    "df_rearranged = df[features_rearranged]\n",
    "df_rearranged"
   ]
  },
  {
   "cell_type": "code",
   "execution_count": 83,
   "id": "826e67ca-c909-452f-954c-b834f358c24f",
   "metadata": {},
   "outputs": [],
   "source": [
    "# this code will split the data into inputs and targets for further analysis\n",
    "inputs = df_rearranged.iloc[:,0:14]\n",
    "targets = df_rearranged.iloc[:,14:15]"
   ]
  },
  {
   "cell_type": "markdown",
   "id": "ff43c989-6d53-44ac-b1d5-ac4b0412a550",
   "metadata": {},
   "source": [
    "**Scaling the inputs**<br> \n",
    "The purpose of the code snippet below is to scale the selected variables in the DataFrame 'df_rearranged' using the StandardScaler.\n",
    "\n",
    "Scaling the variables ensures that they are on a similar scale, which can be beneficial to the machine learning algorithms employed. Scaling also helps to prevent certain features from dominating the model simply because they have larger values compared to other features."
   ]
  },
  {
   "cell_type": "code",
   "execution_count": 84,
   "id": "42877c37-3db0-4189-a910-c705282618a0",
   "metadata": {},
   "outputs": [],
   "source": [
    "from sklearn.preprocessing import StandardScaler"
   ]
  },
  {
   "cell_type": "code",
   "execution_count": 85,
   "id": "3b6bab8f-38be-4840-a2f7-4ebc32bfa354",
   "metadata": {},
   "outputs": [
    {
     "data": {
      "text/plain": [
       "array([[-1.09598752, -0.32622142,  0.29351742, ...,  0.99720391,\n",
       "        -0.57873591, -0.57380915],\n",
       "       [-1.09598752, -0.44003595,  0.19816383, ..., -1.00280393,\n",
       "        -0.57873591,  1.74273971],\n",
       "       [-1.09598752, -1.53679418,  0.29351742, ...,  0.99720391,\n",
       "        -0.57873591, -0.57380915],\n",
       "       ...,\n",
       "       [-1.09598752,  0.60498839, -0.27860412, ...,  0.99720391,\n",
       "        -0.57873591, -0.57380915],\n",
       "       [ 0.91241915,  1.25683526,  0.29351742, ..., -1.00280393,\n",
       "         1.72790383, -0.57380915],\n",
       "       [-1.09598752,  1.46377078, -1.04143285, ...,  0.99720391,\n",
       "        -0.57873591, -0.57380915]])"
      ]
     },
     "execution_count": 85,
     "metadata": {},
     "output_type": "execute_result"
    }
   ],
   "source": [
    "scaler = StandardScaler()\n",
    "scaled_inputs = scaler.fit_transform(inputs)\n",
    "scaled_inputs\n"
   ]
  },
  {
   "cell_type": "code",
   "execution_count": 86,
   "id": "0471cec9-e686-4876-aa91-cef072a4ce35",
   "metadata": {},
   "outputs": [
    {
     "data": {
      "text/html": [
       "<div>\n",
       "<style scoped>\n",
       "    .dataframe tbody tr th:only-of-type {\n",
       "        vertical-align: middle;\n",
       "    }\n",
       "\n",
       "    .dataframe tbody tr th {\n",
       "        vertical-align: top;\n",
       "    }\n",
       "\n",
       "    .dataframe thead th {\n",
       "        text-align: right;\n",
       "    }\n",
       "</style>\n",
       "<table border=\"1\" class=\"dataframe\">\n",
       "  <thead>\n",
       "    <tr style=\"text-align: right;\">\n",
       "      <th></th>\n",
       "      <th>Gender</th>\n",
       "      <th>CreditScore</th>\n",
       "      <th>Age</th>\n",
       "      <th>Tenure</th>\n",
       "      <th>Balance</th>\n",
       "      <th>NumOfProducts</th>\n",
       "      <th>HasCrCard</th>\n",
       "      <th>IsActiveMember</th>\n",
       "      <th>EstimatedSalary</th>\n",
       "      <th>BalanceSalaryRatio</th>\n",
       "      <th>TenureByAge</th>\n",
       "      <th>Geography_France</th>\n",
       "      <th>Geography_Germany</th>\n",
       "      <th>Geography_Spain</th>\n",
       "    </tr>\n",
       "  </thead>\n",
       "  <tbody>\n",
       "    <tr>\n",
       "      <th>0</th>\n",
       "      <td>-1.095988</td>\n",
       "      <td>-0.326221</td>\n",
       "      <td>0.293517</td>\n",
       "      <td>-1.041760</td>\n",
       "      <td>-1.225847</td>\n",
       "      <td>-0.911583</td>\n",
       "      <td>0.646092</td>\n",
       "      <td>0.970243</td>\n",
       "      <td>0.021880</td>\n",
       "      <td>-0.032618</td>\n",
       "      <td>0.0</td>\n",
       "      <td>0.997204</td>\n",
       "      <td>-0.578736</td>\n",
       "      <td>-0.573809</td>\n",
       "    </tr>\n",
       "    <tr>\n",
       "      <th>1</th>\n",
       "      <td>-1.095988</td>\n",
       "      <td>-0.440036</td>\n",
       "      <td>0.198164</td>\n",
       "      <td>-1.387538</td>\n",
       "      <td>0.117342</td>\n",
       "      <td>-0.911583</td>\n",
       "      <td>-1.547768</td>\n",
       "      <td>0.970243</td>\n",
       "      <td>0.216532</td>\n",
       "      <td>-0.032618</td>\n",
       "      <td>0.0</td>\n",
       "      <td>-1.002804</td>\n",
       "      <td>-0.578736</td>\n",
       "      <td>1.742740</td>\n",
       "    </tr>\n",
       "    <tr>\n",
       "      <th>2</th>\n",
       "      <td>-1.095988</td>\n",
       "      <td>-1.536794</td>\n",
       "      <td>0.293517</td>\n",
       "      <td>1.032908</td>\n",
       "      <td>1.333050</td>\n",
       "      <td>2.527057</td>\n",
       "      <td>0.646092</td>\n",
       "      <td>-1.030670</td>\n",
       "      <td>0.240686</td>\n",
       "      <td>-0.023387</td>\n",
       "      <td>0.0</td>\n",
       "      <td>0.997204</td>\n",
       "      <td>-0.578736</td>\n",
       "      <td>-0.573809</td>\n",
       "    </tr>\n",
       "    <tr>\n",
       "      <th>3</th>\n",
       "      <td>-1.095988</td>\n",
       "      <td>0.501521</td>\n",
       "      <td>0.007457</td>\n",
       "      <td>-1.387538</td>\n",
       "      <td>-1.225847</td>\n",
       "      <td>0.807737</td>\n",
       "      <td>-1.547768</td>\n",
       "      <td>-1.030670</td>\n",
       "      <td>-0.108920</td>\n",
       "      <td>-0.032618</td>\n",
       "      <td>0.0</td>\n",
       "      <td>0.997204</td>\n",
       "      <td>-0.578736</td>\n",
       "      <td>-0.573809</td>\n",
       "    </tr>\n",
       "    <tr>\n",
       "      <th>4</th>\n",
       "      <td>-1.095988</td>\n",
       "      <td>2.063884</td>\n",
       "      <td>0.388871</td>\n",
       "      <td>-1.041760</td>\n",
       "      <td>0.785723</td>\n",
       "      <td>-0.911583</td>\n",
       "      <td>0.646092</td>\n",
       "      <td>0.970243</td>\n",
       "      <td>-0.365269</td>\n",
       "      <td>-0.023387</td>\n",
       "      <td>0.0</td>\n",
       "      <td>-1.002804</td>\n",
       "      <td>-0.578736</td>\n",
       "      <td>1.742740</td>\n",
       "    </tr>\n",
       "    <tr>\n",
       "      <th>...</th>\n",
       "      <td>...</td>\n",
       "      <td>...</td>\n",
       "      <td>...</td>\n",
       "      <td>...</td>\n",
       "      <td>...</td>\n",
       "      <td>...</td>\n",
       "      <td>...</td>\n",
       "      <td>...</td>\n",
       "      <td>...</td>\n",
       "      <td>...</td>\n",
       "      <td>...</td>\n",
       "      <td>...</td>\n",
       "      <td>...</td>\n",
       "      <td>...</td>\n",
       "    </tr>\n",
       "    <tr>\n",
       "      <th>9995</th>\n",
       "      <td>0.912419</td>\n",
       "      <td>1.246488</td>\n",
       "      <td>0.007457</td>\n",
       "      <td>-0.004426</td>\n",
       "      <td>-1.225847</td>\n",
       "      <td>0.807737</td>\n",
       "      <td>0.646092</td>\n",
       "      <td>-1.030670</td>\n",
       "      <td>-0.066422</td>\n",
       "      <td>-0.032618</td>\n",
       "      <td>0.0</td>\n",
       "      <td>0.997204</td>\n",
       "      <td>-0.578736</td>\n",
       "      <td>-0.573809</td>\n",
       "    </tr>\n",
       "    <tr>\n",
       "      <th>9996</th>\n",
       "      <td>0.912419</td>\n",
       "      <td>-1.391939</td>\n",
       "      <td>-0.373958</td>\n",
       "      <td>1.724464</td>\n",
       "      <td>-0.306384</td>\n",
       "      <td>-0.911583</td>\n",
       "      <td>0.646092</td>\n",
       "      <td>0.970243</td>\n",
       "      <td>0.027983</td>\n",
       "      <td>-0.032618</td>\n",
       "      <td>0.0</td>\n",
       "      <td>0.997204</td>\n",
       "      <td>-0.578736</td>\n",
       "      <td>-0.573809</td>\n",
       "    </tr>\n",
       "    <tr>\n",
       "      <th>9997</th>\n",
       "      <td>-1.095988</td>\n",
       "      <td>0.604988</td>\n",
       "      <td>-0.278604</td>\n",
       "      <td>0.687130</td>\n",
       "      <td>-1.225847</td>\n",
       "      <td>-0.911583</td>\n",
       "      <td>-1.547768</td>\n",
       "      <td>0.970243</td>\n",
       "      <td>-1.008645</td>\n",
       "      <td>-0.032618</td>\n",
       "      <td>0.0</td>\n",
       "      <td>0.997204</td>\n",
       "      <td>-0.578736</td>\n",
       "      <td>-0.573809</td>\n",
       "    </tr>\n",
       "    <tr>\n",
       "      <th>9998</th>\n",
       "      <td>0.912419</td>\n",
       "      <td>1.256835</td>\n",
       "      <td>0.293517</td>\n",
       "      <td>-0.695982</td>\n",
       "      <td>-0.022607</td>\n",
       "      <td>0.807737</td>\n",
       "      <td>0.646092</td>\n",
       "      <td>-1.030670</td>\n",
       "      <td>-0.125231</td>\n",
       "      <td>-0.032618</td>\n",
       "      <td>0.0</td>\n",
       "      <td>-1.002804</td>\n",
       "      <td>1.727904</td>\n",
       "      <td>-0.573809</td>\n",
       "    </tr>\n",
       "    <tr>\n",
       "      <th>9999</th>\n",
       "      <td>-1.095988</td>\n",
       "      <td>1.463771</td>\n",
       "      <td>-1.041433</td>\n",
       "      <td>-0.350204</td>\n",
       "      <td>0.859960</td>\n",
       "      <td>-0.911583</td>\n",
       "      <td>0.646092</td>\n",
       "      <td>-1.030670</td>\n",
       "      <td>-1.076375</td>\n",
       "      <td>-0.004924</td>\n",
       "      <td>0.0</td>\n",
       "      <td>0.997204</td>\n",
       "      <td>-0.578736</td>\n",
       "      <td>-0.573809</td>\n",
       "    </tr>\n",
       "  </tbody>\n",
       "</table>\n",
       "<p>10000 rows × 14 columns</p>\n",
       "</div>"
      ],
      "text/plain": [
       "        Gender  CreditScore       Age    Tenure   Balance  NumOfProducts  \\\n",
       "0    -1.095988    -0.326221  0.293517 -1.041760 -1.225847      -0.911583   \n",
       "1    -1.095988    -0.440036  0.198164 -1.387538  0.117342      -0.911583   \n",
       "2    -1.095988    -1.536794  0.293517  1.032908  1.333050       2.527057   \n",
       "3    -1.095988     0.501521  0.007457 -1.387538 -1.225847       0.807737   \n",
       "4    -1.095988     2.063884  0.388871 -1.041760  0.785723      -0.911583   \n",
       "...        ...          ...       ...       ...       ...            ...   \n",
       "9995  0.912419     1.246488  0.007457 -0.004426 -1.225847       0.807737   \n",
       "9996  0.912419    -1.391939 -0.373958  1.724464 -0.306384      -0.911583   \n",
       "9997 -1.095988     0.604988 -0.278604  0.687130 -1.225847      -0.911583   \n",
       "9998  0.912419     1.256835  0.293517 -0.695982 -0.022607       0.807737   \n",
       "9999 -1.095988     1.463771 -1.041433 -0.350204  0.859960      -0.911583   \n",
       "\n",
       "      HasCrCard  IsActiveMember  EstimatedSalary  BalanceSalaryRatio  \\\n",
       "0      0.646092        0.970243         0.021880           -0.032618   \n",
       "1     -1.547768        0.970243         0.216532           -0.032618   \n",
       "2      0.646092       -1.030670         0.240686           -0.023387   \n",
       "3     -1.547768       -1.030670        -0.108920           -0.032618   \n",
       "4      0.646092        0.970243        -0.365269           -0.023387   \n",
       "...         ...             ...              ...                 ...   \n",
       "9995   0.646092       -1.030670        -0.066422           -0.032618   \n",
       "9996   0.646092        0.970243         0.027983           -0.032618   \n",
       "9997  -1.547768        0.970243        -1.008645           -0.032618   \n",
       "9998   0.646092       -1.030670        -0.125231           -0.032618   \n",
       "9999   0.646092       -1.030670        -1.076375           -0.004924   \n",
       "\n",
       "      TenureByAge  Geography_France  Geography_Germany  Geography_Spain  \n",
       "0             0.0          0.997204          -0.578736        -0.573809  \n",
       "1             0.0         -1.002804          -0.578736         1.742740  \n",
       "2             0.0          0.997204          -0.578736        -0.573809  \n",
       "3             0.0          0.997204          -0.578736        -0.573809  \n",
       "4             0.0         -1.002804          -0.578736         1.742740  \n",
       "...           ...               ...                ...              ...  \n",
       "9995          0.0          0.997204          -0.578736        -0.573809  \n",
       "9996          0.0          0.997204          -0.578736        -0.573809  \n",
       "9997          0.0          0.997204          -0.578736        -0.573809  \n",
       "9998          0.0         -1.002804           1.727904        -0.573809  \n",
       "9999          0.0          0.997204          -0.578736        -0.573809  \n",
       "\n",
       "[10000 rows x 14 columns]"
      ]
     },
     "execution_count": 86,
     "metadata": {},
     "output_type": "execute_result"
    }
   ],
   "source": [
    "pd.DataFrame(columns=df_rearranged.columns[0:14], data=scaled_inputs)"
   ]
  },
  {
   "cell_type": "markdown",
   "id": "032e168d-1946-4c52-a366-34d3507aad3f",
   "metadata": {},
   "source": [
    "The purpose of the code snippet below is to split the data into training and testing sets, where x_train contains the independent features for training, x_test contains the independent features for testing, y_train contains the dependent feature for training, and y_test contains the dependent feature for testing."
   ]
  },
  {
   "cell_type": "code",
   "execution_count": 87,
   "id": "510299eb-07eb-4fc2-8176-70cd8e11e9ea",
   "metadata": {},
   "outputs": [],
   "source": [
    "# Importing the train_test_split function from sklearn.model_selection\n",
    "from sklearn.model_selection import train_test_split"
   ]
  },
  {
   "cell_type": "code",
   "execution_count": 88,
   "id": "ae499dec-d784-4f94-abfa-7d7810a372a8",
   "metadata": {},
   "outputs": [],
   "source": [
    "# Spliting the data into training and testing sets\n",
    "x_train, x_test, y_train, y_test = train_test_split(scaled_inputs, targets, random_state=365, test_size=0.2)\n"
   ]
  },
  {
   "cell_type": "code",
   "execution_count": 89,
   "id": "6970912a-4e39-4506-a4aa-fdf5c14315c3",
   "metadata": {},
   "outputs": [
    {
     "data": {
      "text/plain": [
       "((8000, 14), (8000, 1))"
      ]
     },
     "execution_count": 89,
     "metadata": {},
     "output_type": "execute_result"
    }
   ],
   "source": [
    "x_train.shape, y_train.shape"
   ]
  },
  {
   "cell_type": "code",
   "execution_count": 90,
   "id": "74b3c4fc-585c-424d-a4f5-b9066c28ed9f",
   "metadata": {},
   "outputs": [
    {
     "data": {
      "text/plain": [
       "Exited\n",
       "0         6376\n",
       "1         1624\n",
       "Name: count, dtype: int64"
      ]
     },
     "execution_count": 90,
     "metadata": {},
     "output_type": "execute_result"
    }
   ],
   "source": [
    "y_train.value_counts()"
   ]
  },
  {
   "cell_type": "markdown",
   "id": "62d8ef82-18ba-4eab-aa7b-cc8b343845a4",
   "metadata": {},
   "source": [
    "# Building Model"
   ]
  },
  {
   "cell_type": "markdown",
   "id": "04d9290c-7254-4fac-a171-e775d5087e14",
   "metadata": {},
   "source": [
    "**creating validation data**<br>\n",
    "\n",
    "the code below creates a validation data which will help to know when the model is overfitting and will stop the model when overfitting starts"
   ]
  },
  {
   "cell_type": "code",
   "execution_count": 91,
   "id": "915add1b-0447-40ac-add1-c3ca676fd3ef",
   "metadata": {},
   "outputs": [],
   "source": [
    "x_inputs = x_test.shape[0]\n",
    "sample_count = int(0.5 * x_inputs)\n",
    "valid_inputs = x_test[:sample_count]\n",
    "valid_targets = y_test[:sample_count]"
   ]
  },
  {
   "cell_type": "code",
   "execution_count": 92,
   "id": "bf20afa1-20cc-4b2b-9bdc-af15cb3991cd",
   "metadata": {},
   "outputs": [],
   "source": [
    "#importing tensorflow\n",
    "import tensorflow as tf"
   ]
  },
  {
   "cell_type": "code",
   "execution_count": 93,
   "id": "3c646d0a-53f8-4b2a-afec-ae2dccb41770",
   "metadata": {},
   "outputs": [
    {
     "name": "stdout",
     "output_type": "stream",
     "text": [
      "Epoch 1/100\n",
      "80/80 - 1s - 17ms/step - accuracy: 0.7784 - loss: 0.5101 - val_accuracy: 0.8250 - val_loss: 0.4072\n",
      "Epoch 2/100\n",
      "80/80 - 0s - 1ms/step - accuracy: 0.8231 - loss: 0.4150 - val_accuracy: 0.8510 - val_loss: 0.3745\n",
      "Epoch 3/100\n",
      "80/80 - 0s - 1ms/step - accuracy: 0.8413 - loss: 0.3793 - val_accuracy: 0.8740 - val_loss: 0.3426\n",
      "Epoch 4/100\n",
      "80/80 - 0s - 1ms/step - accuracy: 0.8536 - loss: 0.3532 - val_accuracy: 0.8690 - val_loss: 0.3294\n",
      "Epoch 5/100\n",
      "80/80 - 0s - 1ms/step - accuracy: 0.8559 - loss: 0.3446 - val_accuracy: 0.8750 - val_loss: 0.3237\n",
      "Epoch 6/100\n",
      "80/80 - 0s - 1ms/step - accuracy: 0.8595 - loss: 0.3367 - val_accuracy: 0.8810 - val_loss: 0.3223\n",
      "Epoch 7/100\n",
      "80/80 - 0s - 1ms/step - accuracy: 0.8621 - loss: 0.3341 - val_accuracy: 0.8790 - val_loss: 0.3234\n",
      "Epoch 8/100\n",
      "80/80 - 0s - 1ms/step - accuracy: 0.8625 - loss: 0.3313 - val_accuracy: 0.8790 - val_loss: 0.3203\n",
      "Epoch 9/100\n",
      "80/80 - 0s - 1ms/step - accuracy: 0.8648 - loss: 0.3275 - val_accuracy: 0.8740 - val_loss: 0.3212\n",
      "Epoch 10/100\n",
      "80/80 - 0s - 1ms/step - accuracy: 0.8652 - loss: 0.3261 - val_accuracy: 0.8730 - val_loss: 0.3229\n"
     ]
    },
    {
     "data": {
      "text/plain": [
       "<keras.src.callbacks.history.History at 0x1afc6d7fe60>"
      ]
     },
     "execution_count": 93,
     "metadata": {},
     "output_type": "execute_result"
    }
   ],
   "source": [
    "# Set the input and output sizes\n",
    "input_size = 14\n",
    "output_size = 1\n",
    "# Use same hidden layer size for both hidden layers. Not a necessity.\n",
    "hidden_layer_size = 50\n",
    "\n",
    "# define how the model will look like\n",
    "model = tf.keras.Sequential([\n",
    "    # tf.keras.layers.Dense is basically implementing: output = activation(dot(input, weight) + bias)\n",
    "    # it takes several arguments, but the most important ones for us are the hidden_layer_size and the activation function\n",
    "    tf.keras.layers.Dense(hidden_layer_size, activation='relu'), # 1st hidden layer\n",
    "    tf.keras.layers.Dense(hidden_layer_size, activation='relu'), # 2nd hidden layer\n",
    "    tf.keras.layers.Dense(hidden_layer_size, activation='relu'), # 3nd hidden layer\n",
    "    # the final layer is no different, we just make sure to activate it with softmax\n",
    "    tf.keras.layers.Dense(output_size, activation='sigmoid') # output layer\n",
    "])\n",
    "\n",
    "### Choosing the optimizer and the loss function\n",
    "\n",
    "# define the optimizer we'd like to use,\n",
    "# the loss function,\n",
    "# and the metrics we are interested in obtaining at each iteration\n",
    "model.compile(optimizer='adam', loss='binary_crossentropy', metrics=['accuracy'])\n",
    "\n",
    "# set the batch size\n",
    "batch_size = 100\n",
    "\n",
    "# setting a maximum number of training epochs\n",
    "max_epochs = 100\n",
    "\n",
    "# setting an early stopping mechanism\n",
    "# let's set patience=2, to be a bit tolerant against random validation loss increases\n",
    "early_stopping = tf.keras.callbacks.EarlyStopping(patience=2)\n",
    "\n",
    "# fit the model\n",
    "# note that this time the train, validation and test data are not iterable\n",
    "model.fit(x_train, # train inputs\n",
    "          y_train, # train targets\n",
    "          batch_size=batch_size, # batch size\n",
    "          epochs=max_epochs, # epochs that we will train for (assuming early stopping doesn't kick in)\n",
    "          # callbacks are functions called by a task when a task is completed\n",
    "          # task here is to check if val_loss is increasing\n",
    "          callbacks=[early_stopping], # early stopping\n",
    "          validation_data=(valid_inputs, valid_targets), # validation data\n",
    "          verbose = 2 # making sure we get enough information about the training process\n",
    "          )"
   ]
  },
  {
   "cell_type": "code",
   "execution_count": 94,
   "id": "97f85546-52b4-407b-8831-ee5e4de547cc",
   "metadata": {},
   "outputs": [
    {
     "name": "stdout",
     "output_type": "stream",
     "text": [
      "\u001b[1m63/63\u001b[0m \u001b[32m━━━━━━━━━━━━━━━━━━━━\u001b[0m\u001b[37m\u001b[0m \u001b[1m0s\u001b[0m 640us/step - accuracy: 0.8656 - loss: 0.3296\n",
      "Test Loss: 0.346664160490036\n",
      "Test Accuracy: 0.859499990940094\n"
     ]
    }
   ],
   "source": [
    "# Evaluating the model on the test data\n",
    "evaluation = model.evaluate(x_test, y_test)\n",
    "\n",
    "# Print the evaluation results\n",
    "print(\"Test Loss:\", evaluation[0])  # Test loss value\n",
    "print(\"Test Accuracy:\", evaluation[1])  # Test accuracy value\n",
    "\n"
   ]
  },
  {
   "cell_type": "markdown",
   "id": "4fecb69a-428c-4908-98cb-58aa1e166e98",
   "metadata": {},
   "source": [
    "**converting the predicted values into discrete values of 0s and 1s**\n",
    "\n",
    "By assigning binary labels based on a threshold value **(0.5 in this case)**, the code converts the predicted values into discrete predictions, which can be further used for performance evaluation and comparison with the actual target values."
   ]
  },
  {
   "cell_type": "code",
   "execution_count": 95,
   "id": "e9225388-39c6-4675-8138-0586e0142642",
   "metadata": {},
   "outputs": [
    {
     "name": "stdout",
     "output_type": "stream",
     "text": [
      "\u001b[1m63/63\u001b[0m \u001b[32m━━━━━━━━━━━━━━━━━━━━\u001b[0m\u001b[37m\u001b[0m \u001b[1m0s\u001b[0m 1ms/step\n"
     ]
    }
   ],
   "source": [
    "# predict output for the test data\n",
    "prediction = model.predict(x_test)"
   ]
  },
  {
   "cell_type": "code",
   "execution_count": 96,
   "id": "18690dd1-4da0-4a73-b31a-a8a943a6db2f",
   "metadata": {},
   "outputs": [],
   "source": [
    "# creating empty list to store the predicted binary labels\n",
    "result_pred = []\n",
    "\n",
    "for pred in prediction:\n",
    "    if pred > 0.5:\n",
    "        # # If the predicted value is greater than 0.5, assign 1\n",
    "        result_pred.append(1) \n",
    "    else:\n",
    "        #If the predicted value is less than or equal to 0.5, assign 0\n",
    "        result_pred.append(0)"
   ]
  },
  {
   "cell_type": "code",
   "execution_count": 97,
   "id": "87b0bc58-2b3c-4635-a94f-dd181fb6998b",
   "metadata": {
    "scrolled": true
   },
   "outputs": [
    {
     "name": "stdout",
     "output_type": "stream",
     "text": [
      "              precision    recall  f1-score   support\n",
      "\n",
      "           0       0.87      0.97      0.92      1587\n",
      "           1       0.80      0.43      0.56       413\n",
      "\n",
      "    accuracy                           0.86      2000\n",
      "   macro avg       0.83      0.70      0.74      2000\n",
      "weighted avg       0.85      0.86      0.84      2000\n",
      "\n"
     ]
    }
   ],
   "source": [
    "from sklearn.metrics import classification_report\n",
    "\n",
    "# Generate the classification report\n",
    "print(classification_report(y_test, result_pred))"
   ]
  },
  {
   "cell_type": "code",
   "execution_count": 98,
   "id": "fbd86373-c01c-4e64-9144-f2b7fd28af48",
   "metadata": {},
   "outputs": [
    {
     "data": {
      "text/plain": [
       "Text(95.72222222222221, 0.5, 'Truth')"
      ]
     },
     "execution_count": 98,
     "metadata": {},
     "output_type": "execute_result"
    },
    {
     "data": {
      "image/png": "[encoded data removed]",
      "text/plain": [
       "<Figure size 1000x700 with 2 Axes>"
      ]
     },
     "metadata": {},
     "output_type": "display_data"
    }
   ],
   "source": [
    "# Calculating the confusion matrix\n",
    "cm = tf.math.confusion_matrix(labels=y_test, predictions=result_pred)\n",
    "\n",
    "# Create a heatmap of the confusion matrix\n",
    "plt.figure(figsize=(10, 7))\n",
    "sns.heatmap(cm, annot=True, fmt='d')  # 'annot=True' displays the count values in each cell, 'fmt='d'' formats the values as integers\n",
    "plt.xlabel('Predicted')\n",
    "plt.ylabel('Truth')"
   ]
  },
  {
   "cell_type": "code",
   "execution_count": 99,
   "id": "cb790c9f-b7e1-4a2b-bd0e-a27b14de434c",
   "metadata": {},
   "outputs": [
    {
     "name": "stdout",
     "output_type": "stream",
     "text": [
      "Accuracy score is: 85.95 %\n"
     ]
    }
   ],
   "source": [
    "from sklearn.metrics import accuracy_score\n",
    "\n",
    "# Calculate and print the accuracy score\n",
    "accuracy = accuracy_score(y_test, result_pred)\n",
    "print(\"Accuracy score is:\", accuracy * 100, \"%\")"
   ]
  },
  {
   "cell_type": "markdown",
   "id": "f7bdd11a-54e0-447b-9561-7da3475ab0c7",
   "metadata": {},
   "source": [
    "# Conclusion "
   ]
  },
  {
   "cell_type": "markdown",
   "id": "4f0aa991-1c0f-476a-865b-fc907adef241",
   "metadata": {},
   "source": [
    " The accuracy score of **86.5%** indicates that the model correctly classified 86.5% of the samples in the test dataset. It demonstrates the proportion of accurate predictions compared to the total number of samples.\n",
    "\n",
    "☞ An accuracy score of 86.7% suggests that the model is performing reasonably well in terms of overall accuracy. However, it is important to consider other evaluation metrics and the specific requirements of the problem domain to obtain a comprehensive understanding of the model's performance.\n",
    "\n",
    "☞ Remember that accuracy is just one metric, and depending on the nature of the problem, other metrics such as precision, recall, and F1-score may provide additional insights. Evaluating multiple metrics can help you gain a more comprehensive understanding of the model's strengths and weaknesses in different aspects of classification performance.\n"
   ]
  },
  {
   "cell_type": "code",
   "execution_count": null,
   "id": "63d6e17e-3486-4125-8fd6-05861b5f808b",
   "metadata": {},
   "outputs": [],
   "source": []
  },
  {
   "cell_type": "code",
   "execution_count": null,
   "id": "5f930d40-20ef-45f7-b1bf-1190b1d436d9",
   "metadata": {},
   "outputs": [],
   "source": []
  },
  {
   "cell_type": "code",
   "execution_count": null,
   "id": "a27d7063-8dba-443d-8e2a-effde1986ac2",
   "metadata": {},
   "outputs": [],
   "source": []
  }
 ],
 "metadata": {
  "kernelspec": {
   "display_name": "Python 3 (ipykernel)",
   "language": "python",
   "name": "python3"
  },
  "language_info": {
   "codemirror_mode": {
    "name": "ipython",
    "version": 3
   },
   "file_extension": ".py",
   "mimetype": "text/x-python",
   "name": "python",
   "nbconvert_exporter": "python",
   "pygments_lexer": "ipython3",
   "version": "3.12.3"
  }
 },
 "nbformat": 4,
 "nbformat_minor": 5
}
